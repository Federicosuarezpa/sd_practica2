{
 "cells": [
  {
   "cell_type": "markdown",
   "id": "73f1e745",
   "metadata": {},
   "source": [
    "# Notebook Tarea 2 Sistemas distribuidos"
   ]
  },
  {
   "cell_type": "markdown",
   "id": "c886abb1",
   "metadata": {},
   "source": [
    "### Importación de librerías"
   ]
  },
  {
   "cell_type": "code",
   "execution_count": 15,
   "id": "af7cfdd4",
   "metadata": {
    "pycharm": {
     "name": "#%%\n"
    }
   },
   "outputs": [],
   "source": [
    "import lithops\n",
    "import pandas as pd\n",
    "from io import StringIO\n",
    "from lithops import FunctionExecutor\n",
    "from pylab import *\n",
    "import matplotlib.pyplot as plt\n",
    "import sqlalchemy\n",
    "from pandasql import sqldf\n",
    "import pandasql\n",
    "from lithops import Storage\n",
    "import os\n",
    "from dotenv import load_dotenv"
   ]
  },
  {
   "cell_type": "markdown",
   "source": [
    "### Variables globales"
   ],
   "metadata": {
    "collapsed": false
   }
  },
  {
   "cell_type": "code",
   "execution_count": 16,
   "id": "85f45b18",
   "metadata": {
    "pycharm": {
     "name": "#%%\n"
    }
   },
   "outputs": [
    {
     "name": "stderr",
     "output_type": "stream",
     "text": [
      "2021-06-29 17:59:05,581 [INFO] lithops.config -- Lithops v2.3.4\n",
      "2021-06-29 17:59:05,592 [INFO] lithops.storage.backends.ibm_cos.ibm_cos -- IBM COS Storage client created - Region: eu-de\n",
      "2021-06-29 17:59:05,595 [INFO] lithops.serverless.backends.ibm_cf.ibm_cf -- IBM CF client created - Region: eu-de - Namespace: Namespace-1441991\n",
      "2021-06-29 17:59:05,596 [INFO] lithops.executors -- Serverless Executor created with ID: f6c649-2\n"
     ]
    }
   ],
   "source": [
    "fexec = lithops.FunctionExecutor(runtime = 'enzeax/dockerfile:0.4',runtime_memory=2048)"
   ]
  },
  {
   "cell_type": "markdown",
   "id": "06483bef",
   "metadata": {},
   "source": [
    "### Funciones auxiliares"
   ]
  },
  {
   "cell_type": "code",
   "execution_count": 17,
   "id": "862e94df",
   "metadata": {
    "pycharm": {
     "name": "#%%\n"
    }
   },
   "outputs": [],
   "source": [
    "def formateo(pandaQuery):\n",
    "    pandaQuery = pandaQuery.str.replace('00:00:00.000000','',regex=True)\n",
    "    pandaQuery = pandaQuery.str.replace('2020','20',regex=True)\n",
    "    pandaQuery = pandaQuery.str.replace('2021','21',regex=True)\n",
    "    return pandaQuery"
   ]
  },
  {
   "cell_type": "code",
   "execution_count": 18,
   "id": "f8b7fd06",
   "metadata": {
    "pycharm": {
     "name": "#%%\n"
    }
   },
   "outputs": [],
   "source": [
    "def grafico(pandaQuery, x, y):\n",
    "    fig, ax = plt.subplots(figsize=(16, 7))\n",
    "    pandaQuery[x] = formateo(pandaQuery[x])\n",
    "    ax.plot(pandaQuery[x], pandaQuery[y])\n",
    "    plt.show()"
   ]
  },
  {
   "cell_type": "code",
   "execution_count": 19,
   "id": "563fed60",
   "metadata": {
    "pycharm": {
     "name": "#%%\n"
    }
   },
   "outputs": [],
   "source": [
    "def getDataInfo(selectQuery):\n",
    "    storage = Storage()\n",
    "    data = storage.get_object('test-bucket-1441991', 'database.csv')\n",
    "\n",
    "    format_data = str(data[0:-1], 'utf-8')\n",
    "    database = pd.read_csv(StringIO(format_data))\n",
    "\n",
    "    database[\"TipusCasData\"]= pd.to_datetime(database[\"TipusCasData\"])\n",
    "    database = database.sort_values(by=\"TipusCasData\")\n",
    "    query = sqldf(selectQuery)\n",
    "\n",
    "    return query"
   ]
  },
  {
   "cell_type": "code",
   "execution_count": 20,
   "id": "60c828be",
   "metadata": {
    "pycharm": {
     "name": "#%%\n"
    }
   },
   "outputs": [],
   "source": [
    "def graph_plot_multiline(query1, x1, y1, label1, query2, x2, y2, label2):\n",
    "    fig, ax = plt.subplots(figsize=(16, 7))\n",
    "    query1[x1] = formateo(query1[x1])\n",
    "    ax.plot(query1[x1], query1[y1], label = label1)\n",
    "    query2[x2] = formateo(query2[x2])\n",
    "    ax.plot(query2[x2], query2[y2], label = label2)\n",
    "    plt.legend()\n",
    "    plt.show()"
   ]
  },
  {
   "cell_type": "markdown",
   "id": "c849ecfe",
   "metadata": {},
   "source": [
    "### Query 1: consulta n casos por tiempo en la comarca del Tarragones"
   ]
  },
  {
   "cell_type": "code",
   "execution_count": 21,
   "id": "95ca3984",
   "metadata": {
    "pycharm": {
     "name": "#%%\n"
    }
   },
   "outputs": [
    {
     "name": "stderr",
     "output_type": "stream",
     "text": [
      "2021-06-29 17:59:05,619 [INFO] lithops.invokers -- ExecutorID f6c649-2 | JobID A000 - Selected Runtime: enzeax/dockerfile:0.4 - 2048MB\n",
      "2021-06-29 17:59:05,622 [INFO] lithops.job.job -- ExecutorID f6c649-2 | JobID A000 - Uploading function and data - Total: 1.1KiB\n",
      "2021-06-29 17:59:06,208 [INFO] lithops.invokers -- ExecutorID f6c649-2 | JobID A000 - Starting function invocation: getDataInfo() - Total: 1 activations\n",
      "2021-06-29 17:59:06,209 [INFO] lithops.invokers -- ExecutorID f6c649-2 | JobID A000 - View execution logs at /tmp/lithops/logs/f6c649-2-A000.log\n",
      "2021-06-29 17:59:06,211 [INFO] lithops.wait -- ExecutorID f6c649-2 - Getting results from functions\n"
     ]
    },
    {
     "data": {
      "text/plain": "HBox(children=(FloatProgress(value=0.0, max=1.0), HTML(value='')))",
      "application/vnd.jupyter.widget-view+json": {
       "version_major": 2,
       "version_minor": 0,
       "model_id": "6aba2a3de7f9474bad3ebfd326c0c3e8"
      }
     },
     "metadata": {},
     "output_type": "display_data"
    },
    {
     "name": "stderr",
     "output_type": "stream",
     "text": [
      "2021-06-29 17:59:17,350 [INFO] lithops.executors -- ExecutorID f6c649-2 - Cleaning temporary data\n"
     ]
    },
    {
     "name": "stdout",
     "output_type": "stream",
     "text": [
      "\n"
     ]
    }
   ],
   "source": [
    "fexec.call_async(getDataInfo, \"SELECT NumCasos, TipusCasData FROM database WHERE ComarcaDescripcio='TARRAGONES' GROUP BY TipusCasData\", runtime_memory=2048)\n",
    "query = fexec.get_result()"
   ]
  },
  {
   "cell_type": "code",
   "execution_count": 22,
   "id": "bf72c800",
   "metadata": {
    "pycharm": {
     "name": "#%%\n"
    }
   },
   "outputs": [],
   "source": [
    "query['TipusCasData'] = formateo(query['TipusCasData'])\n",
    "grafico(query, 'TipusCasData', 'NumCasos')"
   ]
  },
  {
   "cell_type": "markdown",
   "id": "9c95ae6e",
   "metadata": {},
   "source": [
    "### Query 2: consulta n. casos por comarca A-L"
   ]
  },
  {
   "cell_type": "code",
   "execution_count": 23,
   "id": "9d0cdb45",
   "metadata": {
    "pycharm": {
     "name": "#%%\n"
    }
   },
   "outputs": [
    {
     "name": "stderr",
     "output_type": "stream",
     "text": [
      "2021-06-29 17:59:18,845 [INFO] lithops.invokers -- ExecutorID f6c649-2 | JobID A001 - Selected Runtime: enzeax/dockerfile:0.4 - 2048MB\n",
      "2021-06-29 17:59:18,849 [INFO] lithops.job.job -- ExecutorID f6c649-2 | JobID A001 - Uploading function and data - Total: 1.1KiB\n",
      "2021-06-29 17:59:19,180 [INFO] lithops.invokers -- ExecutorID f6c649-2 | JobID A001 - Starting function invocation: getDataInfo() - Total: 1 activations\n",
      "2021-06-29 17:59:19,181 [INFO] lithops.invokers -- ExecutorID f6c649-2 | JobID A001 - View execution logs at /tmp/lithops/logs/f6c649-2-A001.log\n",
      "2021-06-29 17:59:19,183 [INFO] lithops.wait -- ExecutorID f6c649-2 - Getting results from functions\n"
     ]
    },
    {
     "data": {
      "text/plain": "HBox(children=(FloatProgress(value=0.0, max=2.0), HTML(value='')))",
      "application/vnd.jupyter.widget-view+json": {
       "version_major": 2,
       "version_minor": 0,
       "model_id": "8537013234564a8daa686fa8aecce8e6"
      }
     },
     "metadata": {},
     "output_type": "display_data"
    },
    {
     "name": "stderr",
     "output_type": "stream",
     "text": [
      "2021-06-29 17:59:30,268 [INFO] lithops.executors -- ExecutorID f6c649-2 - Cleaning temporary data\n"
     ]
    },
    {
     "name": "stdout",
     "output_type": "stream",
     "text": [
      "\n"
     ]
    }
   ],
   "source": [
    "fexec.call_async(getDataInfo, \"SELECT SUM(NumCasos) AS TotalCasos, ComarcaDescripcio FROM database WHERE ComarcaDescripcio < 'L%'  GROUP BY ComarcaDescripcio\", runtime_memory=2048)\n",
    "query = fexec.get_result()"
   ]
  },
  {
   "cell_type": "code",
   "execution_count": 24,
   "id": "d1872daa",
   "metadata": {
    "pycharm": {
     "name": "#%%\n"
    }
   },
   "outputs": [],
   "source": [
    "fig, ax = plt.subplots(figsize=(16, 7))\n",
    "ax.barh(query['ComarcaDescripcio'], query['TotalCasos'])\n",
    "plt.show()"
   ]
  },
  {
   "cell_type": "markdown",
   "id": "1ff701fd",
   "metadata": {},
   "source": [
    "### Query 3: consulta n. casos por comarca M-Z"
   ]
  },
  {
   "cell_type": "code",
   "execution_count": 25,
   "id": "cc149bd5",
   "metadata": {
    "pycharm": {
     "name": "#%%\n"
    }
   },
   "outputs": [
    {
     "name": "stderr",
     "output_type": "stream",
     "text": [
      "2021-06-29 17:59:31,446 [INFO] lithops.invokers -- ExecutorID f6c649-2 | JobID A002 - Selected Runtime: enzeax/dockerfile:0.4 - 2048MB\n",
      "2021-06-29 17:59:31,449 [INFO] lithops.job.job -- ExecutorID f6c649-2 | JobID A002 - Uploading function and data - Total: 1.1KiB\n",
      "2021-06-29 17:59:31,686 [INFO] lithops.invokers -- ExecutorID f6c649-2 | JobID A002 - Starting function invocation: getDataInfo() - Total: 1 activations\n",
      "2021-06-29 17:59:31,687 [INFO] lithops.invokers -- ExecutorID f6c649-2 | JobID A002 - View execution logs at /tmp/lithops/logs/f6c649-2-A002.log\n",
      "2021-06-29 17:59:31,689 [INFO] lithops.wait -- ExecutorID f6c649-2 - Getting results from functions\n"
     ]
    },
    {
     "data": {
      "text/plain": "HBox(children=(FloatProgress(value=0.0, max=3.0), HTML(value='')))",
      "application/vnd.jupyter.widget-view+json": {
       "version_major": 2,
       "version_minor": 0,
       "model_id": "648c0667605543e892826cb87690df47"
      }
     },
     "metadata": {},
     "output_type": "display_data"
    },
    {
     "name": "stderr",
     "output_type": "stream",
     "text": [
      "2021-06-29 17:59:42,771 [INFO] lithops.executors -- ExecutorID f6c649-2 - Cleaning temporary data\n"
     ]
    },
    {
     "name": "stdout",
     "output_type": "stream",
     "text": [
      "\n"
     ]
    }
   ],
   "source": [
    "fexec.call_async(getDataInfo, \"SELECT SUM(NumCasos) AS TotalCasos, ComarcaDescripcio FROM database WHERE ComarcaDescripcio >= 'L%'  GROUP BY ComarcaDescripcio\", runtime_memory=2048)\n",
    "query = fexec.get_result()"
   ]
  },
  {
   "cell_type": "code",
   "execution_count": 26,
   "id": "a8d4206a",
   "metadata": {
    "pycharm": {
     "name": "#%%\n"
    }
   },
   "outputs": [],
   "source": [
    "fig, ax = plt.subplots(figsize=(16, 7))\n",
    "ax.barh(query['ComarcaDescripcio'], query['TotalCasos'])\n",
    "plt.show()"
   ]
  },
  {
   "cell_type": "markdown",
   "id": "77b64f8f",
   "metadata": {},
   "source": [
    "### Query 4: consulta n. casos en un mes de todas las comarcas"
   ]
  },
  {
   "cell_type": "code",
   "execution_count": 27,
   "id": "469b679b",
   "metadata": {
    "pycharm": {
     "name": "#%%\n"
    }
   },
   "outputs": [
    {
     "name": "stderr",
     "output_type": "stream",
     "text": [
      "2021-06-29 17:59:43,886 [INFO] lithops.invokers -- ExecutorID f6c649-2 | JobID A003 - Selected Runtime: enzeax/dockerfile:0.4 - 2048MB\n",
      "2021-06-29 17:59:43,888 [INFO] lithops.job.job -- ExecutorID f6c649-2 | JobID A003 - Uploading function and data - Total: 1.1KiB\n",
      "2021-06-29 17:59:44,115 [INFO] lithops.invokers -- ExecutorID f6c649-2 | JobID A003 - Starting function invocation: getDataInfo() - Total: 1 activations\n",
      "2021-06-29 17:59:44,116 [INFO] lithops.invokers -- ExecutorID f6c649-2 | JobID A003 - View execution logs at /tmp/lithops/logs/f6c649-2-A003.log\n",
      "2021-06-29 17:59:44,119 [INFO] lithops.wait -- ExecutorID f6c649-2 - Getting results from functions\n"
     ]
    },
    {
     "data": {
      "text/plain": "HBox(children=(FloatProgress(value=0.0, max=4.0), HTML(value='')))",
      "application/vnd.jupyter.widget-view+json": {
       "version_major": 2,
       "version_minor": 0,
       "model_id": "ae0bf037320d4691a0c8a92339403119"
      }
     },
     "metadata": {},
     "output_type": "display_data"
    },
    {
     "name": "stderr",
     "output_type": "stream",
     "text": [
      "2021-06-29 17:59:55,201 [INFO] lithops.executors -- ExecutorID f6c649-2 - Cleaning temporary data\n"
     ]
    },
    {
     "name": "stdout",
     "output_type": "stream",
     "text": [
      "\n"
     ]
    }
   ],
   "source": [
    "fexec.call_async(getDataInfo, \"SELECT SUM(NumCasos) AS TotalCasos, TipusCasData FROM database WHERE TipusCasData BETWEEN '2020-01-01' AND '2020-02-01' GROUP BY TipusCasData\", runtime_memory=2048)\n",
    "query = fexec.get_result()"
   ]
  },
  {
   "cell_type": "code",
   "execution_count": 28,
   "id": "44f35569",
   "metadata": {
    "pycharm": {
     "name": "#%%\n"
    }
   },
   "outputs": [],
   "source": [
    "query['TipusCasData'] = formateo(query['TipusCasData'])\n",
    "grafico(query, 'TipusCasData', 'TotalCasos')"
   ]
  },
  {
   "cell_type": "markdown",
   "id": "ca6e6422",
   "metadata": {},
   "source": [
    "### Query 5: consulta paralelizadas de n. casos de la comarca del Tarragones"
   ]
  },
  {
   "cell_type": "code",
   "execution_count": 29,
   "id": "81a360cd",
   "metadata": {
    "pycharm": {
     "name": "#%%\n"
    }
   },
   "outputs": [
    {
     "name": "stderr",
     "output_type": "stream",
     "text": [
      "2021-06-29 17:59:56,271 [INFO] lithops.invokers -- ExecutorID f6c649-2 | JobID M004 - Selected Runtime: enzeax/dockerfile:0.4 - 2048MB\n",
      "2021-06-29 17:59:56,275 [INFO] lithops.job.job -- ExecutorID f6c649-2 | JobID M004 - Uploading function and data - Total: 2.1KiB\n",
      "2021-06-29 17:59:56,459 [INFO] lithops.invokers -- ExecutorID f6c649-2 | JobID M004 - Starting function invocation: getDataInfo() - Total: 6 activations\n",
      "2021-06-29 17:59:56,463 [INFO] lithops.invokers -- ExecutorID f6c649-2 | JobID M004 - View execution logs at /tmp/lithops/logs/f6c649-2-M004.log\n",
      "2021-06-29 17:59:56,466 [INFO] lithops.wait -- ExecutorID f6c649-2 - Getting results from functions\n"
     ]
    },
    {
     "data": {
      "text/plain": "HBox(children=(FloatProgress(value=0.0, max=10.0), HTML(value='')))",
      "application/vnd.jupyter.widget-view+json": {
       "version_major": 2,
       "version_minor": 0,
       "model_id": "0f77c9818a834208b7276935e03d7ea6"
      }
     },
     "metadata": {},
     "output_type": "display_data"
    },
    {
     "name": "stderr",
     "output_type": "stream",
     "text": [
      "2021-06-29 18:00:31,710 [INFO] lithops.executors -- ExecutorID f6c649-2 - Cleaning temporary data\n"
     ]
    },
    {
     "name": "stdout",
     "output_type": "stream",
     "text": [
      "\n"
     ]
    }
   ],
   "source": [
    "fexec.map(getDataInfo, [\n",
    "        \"SELECT SUM(NumCasos) AS TotalCasos, TipusCasData FROM database WHERE ComarcaDescripcio='TARRAGONES' AND TipusCasData BETWEEN '2020-01-01' AND '2020-03-01' GROUP BY TipusCasData\",\n",
    "        \"SELECT SUM(NumCasos) AS TotalCasos, TipusCasData FROM database WHERE ComarcaDescripcio='TARRAGONES' AND TipusCasData BETWEEN '2020-03-01' AND '2020-05-01' GROUP BY TipusCasData\",\n",
    "        \"SELECT SUM(NumCasos) AS TotalCasos, TipusCasData FROM database WHERE ComarcaDescripcio='TARRAGONES' AND TipusCasData BETWEEN '2020-05-01' AND '2020-07-01' GROUP BY TipusCasData\",\n",
    "        \"SELECT SUM(NumCasos) AS TotalCasos, TipusCasData FROM database WHERE ComarcaDescripcio='TARRAGONES' AND TipusCasData BETWEEN '2020-07-01' AND '2020-09-01' GROUP BY TipusCasData\",\n",
    "        \"SELECT SUM(NumCasos) AS TotalCasos, TipusCasData FROM database WHERE ComarcaDescripcio='TARRAGONES' AND TipusCasData BETWEEN '2020-09-01' AND '2020-11-01' GROUP BY TipusCasData\",\n",
    "        \"SELECT SUM(NumCasos) AS TotalCasos, TipusCasData FROM database WHERE ComarcaDescripcio='TARRAGONES' AND TipusCasData BETWEEN '2020-11-01' AND '2021-01-01' GROUP BY TipusCasData\"\n",
    "    ])\n",
    "query = fexec.get_result()"
   ]
  },
  {
   "cell_type": "code",
   "execution_count": 30,
   "id": "f4e9395e",
   "metadata": {
    "pycharm": {
     "name": "#%%\n"
    }
   },
   "outputs": [],
   "source": [
    "for q in query:\n",
    "        grafico(q, 'TipusCasData', 'TotalCasos')"
   ]
  },
  {
   "cell_type": "markdown",
   "id": "1ebdf533",
   "metadata": {},
   "source": [
    "### Query 6: consulta número de alta diarias y defunciones diarias durante el año 2020"
   ]
  },
  {
   "cell_type": "code",
   "execution_count": 31,
   "id": "6e2072c5",
   "metadata": {
    "pycharm": {
     "name": "#%%\n"
    }
   },
   "outputs": [
    {
     "name": "stderr",
     "output_type": "stream",
     "text": [
      "2021-06-29 18:00:38,509 [INFO] lithops.invokers -- ExecutorID f6c649-2 | JobID M005 - Selected Runtime: enzeax/dockerfile:0.4 - 2048MB\n",
      "2021-06-29 18:00:38,513 [INFO] lithops.job.job -- ExecutorID f6c649-2 | JobID M005 - Uploading function and data - Total: 1.2KiB\n",
      "2021-06-29 18:00:38,834 [INFO] lithops.invokers -- ExecutorID f6c649-2 | JobID M005 - Starting function invocation: getDataInfo() - Total: 2 activations\n",
      "2021-06-29 18:00:38,837 [INFO] lithops.invokers -- ExecutorID f6c649-2 | JobID M005 - View execution logs at /tmp/lithops/logs/f6c649-2-M005.log\n",
      "2021-06-29 18:00:38,839 [INFO] lithops.wait -- ExecutorID f6c649-2 - Getting results from functions\n"
     ]
    },
    {
     "data": {
      "text/plain": "HBox(children=(FloatProgress(value=0.0, max=12.0), HTML(value='')))",
      "application/vnd.jupyter.widget-view+json": {
       "version_major": 2,
       "version_minor": 0,
       "model_id": "38157895702045339c5e53776dcb180b"
      }
     },
     "metadata": {},
     "output_type": "display_data"
    },
    {
     "name": "stderr",
     "output_type": "stream",
     "text": [
      "2021-06-29 18:00:48,926 [INFO] lithops.executors -- ExecutorID f6c649-2 - Cleaning temporary data\n"
     ]
    },
    {
     "name": "stdout",
     "output_type": "stream",
     "text": [
      "\n"
     ]
    }
   ],
   "source": [
    "fexec.map(getDataInfo, [\n",
    "    \"SELECT DISTINCT TipusCasData, AltesDiaries FROM database WHERE AltesDiaries IS NOT NULL\",\n",
    "    \"SELECT DISTINCT TipusCasData, DefuncionsDiaries FROM database WHERE AltesDiaries IS NOT NULL\"\n",
    "])\n",
    "query = fexec.get_result()"
   ]
  },
  {
   "cell_type": "code",
   "execution_count": 32,
   "id": "025044b2",
   "metadata": {
    "pycharm": {
     "name": "#%%\n"
    }
   },
   "outputs": [],
   "source": [
    "graph_plot_multiline(query[0], 'TipusCasData', 'AltesDiaries', 'Altes diàries', query[1], 'TipusCasData', 'DefuncionsDiaries', 'Defuncions diàries')"
   ]
  },
  {
   "cell_type": "code",
   "execution_count": 32,
   "id": "12feedda",
   "metadata": {
    "pycharm": {
     "name": "#%%\n"
    }
   },
   "outputs": [],
   "source": []
  }
 ],
 "metadata": {
  "kernelspec": {
   "display_name": "Python 3",
   "language": "python",
   "name": "python3"
  },
  "language_info": {
   "codemirror_mode": {
    "name": "ipython",
    "version": 3
   },
   "file_extension": ".py",
   "mimetype": "text/x-python",
   "name": "python",
   "nbconvert_exporter": "python",
   "pygments_lexer": "ipython3",
   "version": "3.9.5"
  }
 },
 "nbformat": 4,
 "nbformat_minor": 5
}